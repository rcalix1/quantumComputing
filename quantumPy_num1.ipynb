{
 "cells": [
  {
   "cell_type": "code",
   "execution_count": 1,
   "id": "925fc5dc",
   "metadata": {},
   "outputs": [],
   "source": [
    "\n",
    "\n",
    "from qiskit import QuantumCircuit, transpile\n",
    "from qiskit_aer import AerSimulator\n",
    "from qiskit.visualization import plot_histogram\n",
    "\n"
   ]
  },
  {
   "cell_type": "code",
   "execution_count": 2,
   "id": "71632ed1",
   "metadata": {},
   "outputs": [],
   "source": [
    "\n",
    "# Use Aer's AerSimulator\n",
    "simulator = AerSimulator()\n"
   ]
  },
  {
   "cell_type": "code",
   "execution_count": 3,
   "id": "2644e0e9",
   "metadata": {},
   "outputs": [],
   "source": [
    "\n",
    "\n",
    "# Create a Quantum Circuit acting on the q register\n",
    "circuit = QuantumCircuit(2, 2)\n"
   ]
  },
  {
   "cell_type": "code",
   "execution_count": 4,
   "id": "db25e855",
   "metadata": {},
   "outputs": [
    {
     "data": {
      "text/plain": [
       "<qiskit.circuit.instructionset.InstructionSet at 0x7fb3f1ffda50>"
      ]
     },
     "execution_count": 4,
     "metadata": {},
     "output_type": "execute_result"
    }
   ],
   "source": [
    "\n",
    "# Add a H gate on qubit 0\n",
    "circuit.h(0)\n"
   ]
  },
  {
   "cell_type": "code",
   "execution_count": 5,
   "id": "0224bd5c",
   "metadata": {},
   "outputs": [
    {
     "data": {
      "text/plain": [
       "<qiskit.circuit.instructionset.InstructionSet at 0x7fb3d0065250>"
      ]
     },
     "execution_count": 5,
     "metadata": {},
     "output_type": "execute_result"
    }
   ],
   "source": [
    "\n",
    "# Add a CX (CNOT) gate on control qubit 0 and target qubit 1\n",
    "circuit.cx(0, 1)\n",
    "\n"
   ]
  },
  {
   "cell_type": "code",
   "execution_count": 6,
   "id": "9025ce63",
   "metadata": {},
   "outputs": [
    {
     "data": {
      "text/plain": [
       "<qiskit.circuit.instructionset.InstructionSet at 0x7fb3d0065810>"
      ]
     },
     "execution_count": 6,
     "metadata": {},
     "output_type": "execute_result"
    }
   ],
   "source": [
    "\n",
    "# Map the quantum measurement to the classical bits\n",
    "circuit.measure([0, 1], [0, 1])\n"
   ]
  },
  {
   "cell_type": "code",
   "execution_count": 7,
   "id": "0041c79f",
   "metadata": {},
   "outputs": [],
   "source": [
    "\n",
    "# Compile the circuit for the support instruction set (basis_gates)\n",
    "# and topology (coupling_map) of the backend\n",
    "compiled_circuit = transpile(circuit, simulator)\n"
   ]
  },
  {
   "cell_type": "code",
   "execution_count": 8,
   "id": "0144ab32",
   "metadata": {},
   "outputs": [],
   "source": [
    "\n",
    "# Execute the circuit on the aer simulator\n",
    "job = simulator.run(compiled_circuit, shots=1000)\n"
   ]
  },
  {
   "cell_type": "code",
   "execution_count": 9,
   "id": "627d24d7",
   "metadata": {},
   "outputs": [],
   "source": [
    "\n",
    "# Grab results from the job\n",
    "result = job.result()\n"
   ]
  },
  {
   "cell_type": "code",
   "execution_count": 10,
   "id": "df0cb7ec",
   "metadata": {},
   "outputs": [
    {
     "name": "stdout",
     "output_type": "stream",
     "text": [
      "\n",
      "Total count for 00 and 11 are: {'11': 500, '00': 500}\n"
     ]
    }
   ],
   "source": [
    "\n",
    "# Returns counts\n",
    "counts = result.get_counts(compiled_circuit)\n",
    "print(\"\\nTotal count for 00 and 11 are:\", counts)\n"
   ]
  },
  {
   "cell_type": "code",
   "execution_count": 11,
   "id": "e95d5a54",
   "metadata": {},
   "outputs": [
    {
     "data": {
      "text/html": [
       "<pre style=\"word-wrap: normal;white-space: pre;background: #fff0;line-height: 1.1;font-family: &quot;Courier New&quot;,Courier,monospace\">     ┌───┐     ┌─┐   \n",
       "q_0: ┤ H ├──■──┤M├───\n",
       "     └───┘┌─┴─┐└╥┘┌─┐\n",
       "q_1: ─────┤ X ├─╫─┤M├\n",
       "          └───┘ ║ └╥┘\n",
       "c: 2/═══════════╩══╩═\n",
       "                0  1 </pre>"
      ],
      "text/plain": [
       "     ┌───┐     ┌─┐   \n",
       "q_0: ┤ H ├──■──┤M├───\n",
       "     └───┘┌─┴─┐└╥┘┌─┐\n",
       "q_1: ─────┤ X ├─╫─┤M├\n",
       "          └───┘ ║ └╥┘\n",
       "c: 2/═══════════╩══╩═\n",
       "                0  1 "
      ]
     },
     "execution_count": 11,
     "metadata": {},
     "output_type": "execute_result"
    }
   ],
   "source": [
    "\n",
    "# Draw the circuit\n",
    "circuit.draw()\n"
   ]
  },
  {
   "cell_type": "code",
   "execution_count": null,
   "id": "59585d79",
   "metadata": {},
   "outputs": [],
   "source": []
  },
  {
   "cell_type": "code",
   "execution_count": null,
   "id": "449bc490",
   "metadata": {},
   "outputs": [],
   "source": [
    "\n",
    "\n",
    "\n",
    "\n",
    "\n",
    "\n",
    "\n",
    "\n",
    "\n",
    "\n",
    "\n",
    "\n",
    "\n"
   ]
  },
  {
   "cell_type": "code",
   "execution_count": null,
   "id": "66d4aa6f",
   "metadata": {},
   "outputs": [],
   "source": []
  },
  {
   "cell_type": "code",
   "execution_count": null,
   "id": "1eae7aba",
   "metadata": {},
   "outputs": [],
   "source": []
  }
 ],
 "metadata": {
  "kernelspec": {
   "display_name": "Python 3 (ipykernel)",
   "language": "python",
   "name": "python3"
  },
  "language_info": {
   "codemirror_mode": {
    "name": "ipython",
    "version": 3
   },
   "file_extension": ".py",
   "mimetype": "text/x-python",
   "name": "python",
   "nbconvert_exporter": "python",
   "pygments_lexer": "ipython3",
   "version": "3.7.16"
  }
 },
 "nbformat": 4,
 "nbformat_minor": 5
}
